{
 "cells": [
  {
   "attachments": {},
   "cell_type": "markdown",
   "metadata": {},
   "source": [
    "# Module 11 Challenge\n",
    "## Deliverable 1: Scrape Titles and Preview Text from Mars News"
   ]
  },
  {
   "cell_type": "code",
   "execution_count": 33,
   "metadata": {},
   "outputs": [],
   "source": [
    "# Import required libraries\n",
    "import requests\n",
    "from bs4 import BeautifulSoup\n",
    "from selenium import webdriver\n",
    "from selenium.webdriver.chrome.service import Service\n",
    "import time\n"
   ]
  },
  {
   "cell_type": "code",
   "execution_count": 36,
   "metadata": {},
   "outputs": [],
   "source": [
    "# Set up ChromeDriver\n",
    "chromedriver_path = \"C:\\\\webdriver\\\\chromedriver.exe\"  #REFERENCE: https://chromedriver.chromium.org/downloads\n",
    "service = Service(chromedriver_path)\n",
    "browser = webdriver.Chrome(service=service)\n",
    "\n",
    "# Visit the Mars News site\n",
    "url = \"https://static.bc-edx.com/data/web/mars_news/index.html\"\n",
    "browser.get(url)\n",
    "\n",
    "# Allow time for the page to load\n",
    "time.sleep(2)\n",
    "\n"
   ]
  },
  {
   "cell_type": "code",
   "execution_count": 35,
   "metadata": {},
   "outputs": [],
   "source": [
    "# Create a BeautifulSoup object\n",
    "html = browser.page_source\n",
    "soup = BeautifulSoup(html, \"html.parser\")\n"
   ]
  },
  {
   "cell_type": "code",
   "execution_count": 37,
   "metadata": {},
   "outputs": [
    {
     "name": "stdout",
     "output_type": "stream",
     "text": [
      "{'date': 'November 9, 2022', 'title': \"NASA's MAVEN Observes Martian Light Show Caused by Major Solar Storm\", 'preview': 'For the first time in its eight years orbiting Mars, NASA’s MAVEN mission witnessed two different types of ultraviolet aurorae simultaneously, the result of solar storms that began on Aug. 27.'}\n",
      "{'date': 'November 1, 2022', 'title': \"NASA Prepares to Say 'Farewell' to InSight Spacecraft\", 'preview': 'A closer look at what goes into wrapping up the mission as the spacecraft’s power supply continues to dwindle.'}\n",
      "{'date': 'October 28, 2022', 'title': 'NASA and ESA Agree on Next Steps to Return Mars Samples to Earth', 'preview': 'The agency’s Perseverance rover will establish the first sample depot on Mars.'}\n",
      "{'date': 'October 27, 2022', 'title': \"NASA's InSight Lander Detects Stunning Meteoroid Impact on Mars\", 'preview': 'The agency’s lander felt the ground shake during the impact while cameras aboard the Mars Reconnaissance Orbiter spotted the yawning new crater from space.'}\n",
      "{'date': 'October 21, 2022', 'title': 'NASA To Host Briefing on InSight, Mars Reconnaissance Orbiter Findings', 'preview': 'Scientists from two Mars missions will discuss how they combined images and data for a major finding on the Red Planet.'}\n",
      "{'date': 'October 20, 2022', 'title': 'Why NASA Is Trying To Crash Land on Mars', 'preview': 'Like a car’s crumple zone, the experimental SHIELD lander is designed to absorb a hard impact.'}\n",
      "{'date': 'October 19, 2022', 'title': 'Curiosity Mars Rover Reaches Long-Awaited Salty Region', 'preview': 'After years of climbing, the Mars rover has arrived at a special region believed to have formed as Mars’ climate was drying.'}\n",
      "{'date': 'October 12, 2022', 'title': 'Mars Mission Shields Up for Tests', 'preview': 'Protecting Mars Sample Return spacecraft from micrometeorites requires high-caliber work.'}\n",
      "{'date': 'October 7, 2022', 'title': \"NASA's InSight Waits Out Dust Storm\", 'preview': 'InSight’s team is taking steps to help the solar-powered lander continue operating for as long as possible.'}\n",
      "{'date': 'September 19, 2022', 'title': \"NASA's InSight 'Hears' Its First Meteoroid Impacts on Mars\", 'preview': 'The Mars lander’s seismometer has picked up vibrations from four separate impacts in the past two years.'}\n",
      "{'date': 'September 15, 2022', 'title': \"NASA's Perseverance Rover Investigates Geologically Rich Mars Terrain\", 'preview': 'The latest findings provide greater detail on a region of the Red Planet that has a watery past and is yielding promising samples for the NASA-ESA Mars Sample Return campaign.'}\n",
      "{'date': 'September 12, 2022', 'title': 'NASA to Host Briefing on Perseverance Mars Rover Mission Operations', 'preview': 'Members of the mission will discuss the rover’s activities as it gathers samples in an ancient river delta.'}\n",
      "{'date': 'August 25, 2022', 'title': \"NASA's Perseverance Makes New Discoveries in Mars' Jezero Crater\", 'preview': 'The rover found that Jezero Crater’s floor is made up of volcanic rocks that have interacted with water.'}\n",
      "{'date': 'August 5, 2022', 'title': \"10 Years Since Landing, NASA's Curiosity Mars Rover Still Has Drive\", 'preview': 'Despite signs of wear, the intrepid spacecraft is about to start an exciting new chapter of its mission as it climbs a Martian mountain.'}\n",
      "{'date': 'August 4, 2022', 'title': \"SAM's Top 5 Discoveries Aboard NASA's Curiosity Rover at Mars\", 'preview': '“Selfie” of the Curiosity rover with inset showing the SAM instrument prior to installation on the rover.'}\n"
     ]
    }
   ],
   "source": [
    "# Find all articles\n",
    "articles = soup.find_all(\"div\", class_=\"list_text\")\n",
    "\n",
    "# Create an empty list to store the results\n",
    "mars_news = []\n",
    "\n",
    "# Loop through each article and extract title and preview text #REFERENCE: CHATGPT\n",
    "for article in articles:\n",
    "    title = article.find(\"div\", class_=\"content_title\").get_text(strip=True)\n",
    "    preview = article.find(\"div\", class_=\"article_teaser_body\").get_text(strip=True)\n",
    "    date = article.find(\"div\", class_=\"list_date\").get_text(strip=True)  # Optional\n",
    "\n",
    "    # Store in dictionary\n",
    "    mars_news.append({\"date\": date, \"title\": title, \"preview\": preview})\n",
    "\n",
    "# Print the results\n",
    "for news in mars_news:\n",
    "    print(news)\n"
   ]
  },
  {
   "cell_type": "code",
   "execution_count": 38,
   "metadata": {},
   "outputs": [],
   "source": [
    "# Extract all the text elements\n",
    "text_elements = soup.find_all(string=True)\n"
   ]
  },
  {
   "cell_type": "code",
   "execution_count": 39,
   "metadata": {},
   "outputs": [],
   "source": [
    "# Extract news articles\n",
    "articles = soup.find_all('div', class_='list_text')\n",
    "\n",
    "# Create an empty list to store results\n",
    "mars_news = []\n",
    "\n",
    "# Loop through each article and extract title and preview text     #REFERENCE: CHATGPT\n",
    "for article in articles:\n",
    "    title_element = article.find(\"div\", class_=\"content_title\")\n",
    "    preview_element = article.find(\"div\", class_=\"article_teaser_body\")\n",
    "\n",
    "    title = title_element.get_text(strip=True) if title_element else \"No title available\"\n",
    "    preview = preview_element.get_text(strip=True) if preview_element else \"No preview available\"\n",
    "\n",
    "    mars_news.append({\"title\": title, \"preview\": preview})\n"
   ]
  },
  {
   "cell_type": "code",
   "execution_count": 40,
   "metadata": {},
   "outputs": [],
   "source": [
    "# Close the browser\n",
    "browser.quit()\n"
   ]
  },
  {
   "cell_type": "code",
   "execution_count": 41,
   "metadata": {},
   "outputs": [
    {
     "name": "stdout",
     "output_type": "stream",
     "text": [
      "[{'title': \"NASA's MAVEN Observes Martian Light Show Caused by Major Solar Storm\", 'preview': 'For the first time in its eight years orbiting Mars, NASA’s MAVEN mission witnessed two different types of ultraviolet aurorae simultaneously, the result of solar storms that began on Aug. 27.'}, {'title': \"NASA Prepares to Say 'Farewell' to InSight Spacecraft\", 'preview': 'A closer look at what goes into wrapping up the mission as the spacecraft’s power supply continues to dwindle.'}, {'title': 'NASA and ESA Agree on Next Steps to Return Mars Samples to Earth', 'preview': 'The agency’s Perseverance rover will establish the first sample depot on Mars.'}, {'title': \"NASA's InSight Lander Detects Stunning Meteoroid Impact on Mars\", 'preview': 'The agency’s lander felt the ground shake during the impact while cameras aboard the Mars Reconnaissance Orbiter spotted the yawning new crater from space.'}, {'title': 'NASA To Host Briefing on InSight, Mars Reconnaissance Orbiter Findings', 'preview': 'Scientists from two Mars missions will discuss how they combined images and data for a major finding on the Red Planet.'}, {'title': 'Why NASA Is Trying To Crash Land on Mars', 'preview': 'Like a car’s crumple zone, the experimental SHIELD lander is designed to absorb a hard impact.'}, {'title': 'Curiosity Mars Rover Reaches Long-Awaited Salty Region', 'preview': 'After years of climbing, the Mars rover has arrived at a special region believed to have formed as Mars’ climate was drying.'}, {'title': 'Mars Mission Shields Up for Tests', 'preview': 'Protecting Mars Sample Return spacecraft from micrometeorites requires high-caliber work.'}, {'title': \"NASA's InSight Waits Out Dust Storm\", 'preview': 'InSight’s team is taking steps to help the solar-powered lander continue operating for as long as possible.'}, {'title': \"NASA's InSight 'Hears' Its First Meteoroid Impacts on Mars\", 'preview': 'The Mars lander’s seismometer has picked up vibrations from four separate impacts in the past two years.'}, {'title': \"NASA's Perseverance Rover Investigates Geologically Rich Mars Terrain\", 'preview': 'The latest findings provide greater detail on a region of the Red Planet that has a watery past and is yielding promising samples for the NASA-ESA Mars Sample Return campaign.'}, {'title': 'NASA to Host Briefing on Perseverance Mars Rover Mission Operations', 'preview': 'Members of the mission will discuss the rover’s activities as it gathers samples in an ancient river delta.'}, {'title': \"NASA's Perseverance Makes New Discoveries in Mars' Jezero Crater\", 'preview': 'The rover found that Jezero Crater’s floor is made up of volcanic rocks that have interacted with water.'}, {'title': \"10 Years Since Landing, NASA's Curiosity Mars Rover Still Has Drive\", 'preview': 'Despite signs of wear, the intrepid spacecraft is about to start an exciting new chapter of its mission as it climbs a Martian mountain.'}, {'title': \"SAM's Top 5 Discoveries Aboard NASA's Curiosity Rover at Mars\", 'preview': '“Selfie” of the Curiosity rover with inset showing the SAM instrument prior to installation on the rover.'}]\n"
     ]
    }
   ],
   "source": [
    "# Print the list to confirm success\n",
    "print(mars_news)"
   ]
  }
 ],
 "metadata": {
  "kernelspec": {
   "display_name": "Python (neural_net)",
   "language": "python",
   "name": "neural_net"
  },
  "language_info": {
   "codemirror_mode": {
    "name": "ipython",
    "version": 3
   },
   "file_extension": ".py",
   "mimetype": "text/x-python",
   "name": "python",
   "nbconvert_exporter": "python",
   "pygments_lexer": "ipython3",
   "version": "3.12.8"
  },
  "vscode": {
   "interpreter": {
    "hash": "31f2aee4e71d21fbe5cf8b01ff0e069b9275f58929596ceb00d14d90e3e16cd6"
   }
  }
 },
 "nbformat": 4,
 "nbformat_minor": 4
}
